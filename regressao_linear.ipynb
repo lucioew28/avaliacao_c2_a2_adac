{
 "cells": [
  {
   "cell_type": "code",
   "execution_count": 1,
   "metadata": {},
   "outputs": [],
   "source": [
    "# imports\n",
    "import pandas as pd\n",
    "import matplotlib.pyplot as plt\n",
    "from sklearn.linear_model import LinearRegression"
   ]
  },
  {
   "attachments": {},
   "cell_type": "markdown",
   "metadata": {},
   "source": [
    "<h3>Exercício 1</h3>\n",
    "<p>É esperado que a massa muscular de uma pessoa diminua com a idade. Para estudar\n",
    "essa relação, uma nutricionista selecionou 18 mulheres, com idade entre 40 e 79 anos,\n",
    "e observou em cada uma delas a idade (X) e a massa muscular (Y).</p>"
   ]
  },
  {
   "cell_type": "code",
   "execution_count": 2,
   "metadata": {},
   "outputs": [
    {
     "data": {
      "text/html": [
       "<div>\n",
       "<style scoped>\n",
       "    .dataframe tbody tr th:only-of-type {\n",
       "        vertical-align: middle;\n",
       "    }\n",
       "\n",
       "    .dataframe tbody tr th {\n",
       "        vertical-align: top;\n",
       "    }\n",
       "\n",
       "    .dataframe thead th {\n",
       "        text-align: right;\n",
       "    }\n",
       "</style>\n",
       "<table border=\"1\" class=\"dataframe\">\n",
       "  <thead>\n",
       "    <tr style=\"text-align: right;\">\n",
       "      <th></th>\n",
       "      <th>Massa Muscular (Y)</th>\n",
       "      <th>Idade (X)</th>\n",
       "    </tr>\n",
       "  </thead>\n",
       "  <tbody>\n",
       "    <tr>\n",
       "      <th>0</th>\n",
       "      <td>82.0</td>\n",
       "      <td>71.0</td>\n",
       "    </tr>\n",
       "    <tr>\n",
       "      <th>1</th>\n",
       "      <td>91.0</td>\n",
       "      <td>64.0</td>\n",
       "    </tr>\n",
       "    <tr>\n",
       "      <th>2</th>\n",
       "      <td>100.0</td>\n",
       "      <td>43.0</td>\n",
       "    </tr>\n",
       "    <tr>\n",
       "      <th>3</th>\n",
       "      <td>68.0</td>\n",
       "      <td>67.0</td>\n",
       "    </tr>\n",
       "    <tr>\n",
       "      <th>4</th>\n",
       "      <td>87.0</td>\n",
       "      <td>56.0</td>\n",
       "    </tr>\n",
       "    <tr>\n",
       "      <th>5</th>\n",
       "      <td>73.0</td>\n",
       "      <td>73.0</td>\n",
       "    </tr>\n",
       "    <tr>\n",
       "      <th>6</th>\n",
       "      <td>78.0</td>\n",
       "      <td>68.0</td>\n",
       "    </tr>\n",
       "    <tr>\n",
       "      <th>7</th>\n",
       "      <td>80.0</td>\n",
       "      <td>56.0</td>\n",
       "    </tr>\n",
       "    <tr>\n",
       "      <th>8</th>\n",
       "      <td>65.0</td>\n",
       "      <td>76.0</td>\n",
       "    </tr>\n",
       "    <tr>\n",
       "      <th>9</th>\n",
       "      <td>84.0</td>\n",
       "      <td>65.0</td>\n",
       "    </tr>\n",
       "    <tr>\n",
       "      <th>10</th>\n",
       "      <td>116.0</td>\n",
       "      <td>45.0</td>\n",
       "    </tr>\n",
       "    <tr>\n",
       "      <th>11</th>\n",
       "      <td>76.0</td>\n",
       "      <td>58.0</td>\n",
       "    </tr>\n",
       "    <tr>\n",
       "      <th>12</th>\n",
       "      <td>97.0</td>\n",
       "      <td>45.0</td>\n",
       "    </tr>\n",
       "    <tr>\n",
       "      <th>13</th>\n",
       "      <td>100.0</td>\n",
       "      <td>53.0</td>\n",
       "    </tr>\n",
       "    <tr>\n",
       "      <th>14</th>\n",
       "      <td>105.0</td>\n",
       "      <td>49.0</td>\n",
       "    </tr>\n",
       "    <tr>\n",
       "      <th>15</th>\n",
       "      <td>77.0</td>\n",
       "      <td>78.0</td>\n",
       "    </tr>\n",
       "    <tr>\n",
       "      <th>16</th>\n",
       "      <td>73.0</td>\n",
       "      <td>73.0</td>\n",
       "    </tr>\n",
       "    <tr>\n",
       "      <th>17</th>\n",
       "      <td>78.0</td>\n",
       "      <td>68.0</td>\n",
       "    </tr>\n",
       "  </tbody>\n",
       "</table>\n",
       "</div>"
      ],
      "text/plain": [
       "    Massa Muscular (Y)  Idade (X)\n",
       "0                 82.0       71.0\n",
       "1                 91.0       64.0\n",
       "2                100.0       43.0\n",
       "3                 68.0       67.0\n",
       "4                 87.0       56.0\n",
       "5                 73.0       73.0\n",
       "6                 78.0       68.0\n",
       "7                 80.0       56.0\n",
       "8                 65.0       76.0\n",
       "9                 84.0       65.0\n",
       "10               116.0       45.0\n",
       "11                76.0       58.0\n",
       "12                97.0       45.0\n",
       "13               100.0       53.0\n",
       "14               105.0       49.0\n",
       "15                77.0       78.0\n",
       "16                73.0       73.0\n",
       "17                78.0       68.0"
      ]
     },
     "execution_count": 2,
     "metadata": {},
     "output_type": "execute_result"
    }
   ],
   "source": [
    "exe1_data = {\n",
    "    'Massa Muscular (Y)': [82.0, 91.0, 100.0, 68.0, 87.0, 73.0, 78.0, 80.0, 65.0, 84.0, 116.0, 76.0, 97.0, 100.0, 105.0, 77.0, 73.0, 78.0],\n",
    "    'Idade (X)': [71.0, 64.0, 43.0, 67.0, 56.0, 73.0, 68.0, 56.0, 76.0, 65.0, 45.0, 58.0, 45.0, 53.0, 49.0, 78.0, 73.0, 68.0]\n",
    "}\n",
    "\n",
    "df_exe1 = pd.DataFrame(exe1_data)\n",
    "df_exe1"
   ]
  },
  {
   "attachments": {},
   "cell_type": "markdown",
   "metadata": {},
   "source": [
    "<p>a) Ajuste uma reta de regressão para a relação entre as variáveis Y: massa\n",
    "muscular (dependente) e X: idade (independente).</p>\n",
    "<h4>Resposta:</h4>"
   ]
  },
  {
   "cell_type": "code",
   "execution_count": 3,
   "metadata": {},
   "outputs": [
    {
     "data": {
      "image/png": "[encoded data removed]",
      "text/plain": [
       "<Figure size 640x480 with 1 Axes>"
      ]
     },
     "metadata": {},
     "output_type": "display_data"
    }
   ],
   "source": [
    "\n",
    "# Separe as variáveis independentes (X) e dependentes (Y)\n",
    "X = df_exe1[['Idade (X)']]\n",
    "Y = df_exe1['Massa Muscular (Y)']\n",
    "\n",
    "# Crie uma instância do modelo de regressão linear\n",
    "regression = LinearRegression()\n",
    "\n",
    "# Ajuste o modelo aos dados\n",
    "regression.fit(X, Y)\n",
    "\n",
    "# Obtenha os coeficientes da reta\n",
    "coeficiente_angular = regression.coef_[0]\n",
    "coeficiente_linear = regression.intercept_\n",
    "\n",
    "# Plotar os dados e a reta\n",
    "plt.scatter(X, Y, color='blue', label='Dados')\n",
    "plt.plot(X, regression.predict(X), color='red', label='Reta de Regressão')\n",
    "plt.xlabel('Idade (X)')\n",
    "plt.ylabel('Massa Muscular (Y)')\n",
    "plt.legend()\n",
    "plt.show()"
   ]
  },
  {
   "cell_type": "code",
   "execution_count": 4,
   "metadata": {},
   "outputs": [
    {
     "name": "stdout",
     "output_type": "stream",
     "text": [
      "Coeficiente Angular: -1.0266652939359624\n",
      "Coeficiente Linear: 148.1969525378359\n"
     ]
    }
   ],
   "source": [
    "print(\"Coeficiente Angular:\", coeficiente_angular)\n",
    "print(\"Coeficiente Linear:\", coeficiente_linear)"
   ]
  },
  {
   "attachments": {},
   "cell_type": "markdown",
   "metadata": {},
   "source": [
    "<p>O coeficiente angular, também conhecido como inclinação da reta, indica como a variável dependente (massa muscular) varia em resposta a uma unidade de mudança na variável independente (idade). Nesse caso, o coeficiente angular é -1.0266652939359624, o que significa que, em média, a massa muscular diminui em 1.0266652939359624 unidades para cada unidade de aumento na idade. Portanto, à medida que a idade aumenta, espera-se uma diminuição na massa muscular.</p>"
   ]
  },
  {
   "attachments": {},
   "cell_type": "markdown",
   "metadata": {},
   "source": [
    "<p>b) Considerando a reta estimada dada no item (a), estime a massa muscular média\n",
    "de mulheres com 50 anos.</p>\n",
    "<h4>Resposta:</h4>\n",
    "<p>Para isso utilizaremos a seguinte fórmula Massa Muscular = (Coeficiente Angular * Idade) + Coeficiente Linear.</p>"
   ]
  },
  {
   "cell_type": "code",
   "execution_count": 5,
   "metadata": {},
   "outputs": [
    {
     "name": "stdout",
     "output_type": "stream",
     "text": [
      "A estimativa de massa muscular para uma mulher de 50 anos é de:\n",
      "96.86368784103777\n"
     ]
    }
   ],
   "source": [
    "def estimate(valur: int, coef_angular:bool, coef_linear:bool) -> bool:\n",
    "    return (coef_angular * valur) + coef_linear\n",
    "\n",
    "idade = 50\n",
    "print(\"A estimativa de massa muscular para uma mulher de 50 anos é de:\")\n",
    "print(estimate(idade, coeficiente_angular, coeficiente_linear))"
   ]
  },
  {
   "attachments": {},
   "cell_type": "markdown",
   "metadata": {},
   "source": [
    "<h3>Exercício 2</h3>\n",
    "<p>Os dados a seguir correspondem à variável renda familiar e gasto com alimentação (em\n",
    "unidades monetárias) para uma amostra de 25 famílias.</p>"
   ]
  },
  {
   "cell_type": "code",
   "execution_count": 6,
   "metadata": {},
   "outputs": [
    {
     "data": {
      "text/html": [
       "<div>\n",
       "<style scoped>\n",
       "    .dataframe tbody tr th:only-of-type {\n",
       "        vertical-align: middle;\n",
       "    }\n",
       "\n",
       "    .dataframe tbody tr th {\n",
       "        vertical-align: top;\n",
       "    }\n",
       "\n",
       "    .dataframe thead th {\n",
       "        text-align: right;\n",
       "    }\n",
       "</style>\n",
       "<table border=\"1\" class=\"dataframe\">\n",
       "  <thead>\n",
       "    <tr style=\"text-align: right;\">\n",
       "      <th></th>\n",
       "      <th>Renda Familiar (X)</th>\n",
       "      <th>Gasto com Alimentação (Y)</th>\n",
       "    </tr>\n",
       "  </thead>\n",
       "  <tbody>\n",
       "    <tr>\n",
       "      <th>0</th>\n",
       "      <td>3</td>\n",
       "      <td>1.5</td>\n",
       "    </tr>\n",
       "    <tr>\n",
       "      <th>1</th>\n",
       "      <td>5</td>\n",
       "      <td>2.0</td>\n",
       "    </tr>\n",
       "    <tr>\n",
       "      <th>2</th>\n",
       "      <td>10</td>\n",
       "      <td>6.0</td>\n",
       "    </tr>\n",
       "    <tr>\n",
       "      <th>3</th>\n",
       "      <td>10</td>\n",
       "      <td>7.0</td>\n",
       "    </tr>\n",
       "    <tr>\n",
       "      <th>4</th>\n",
       "      <td>20</td>\n",
       "      <td>10.0</td>\n",
       "    </tr>\n",
       "    <tr>\n",
       "      <th>5</th>\n",
       "      <td>20</td>\n",
       "      <td>12.0</td>\n",
       "    </tr>\n",
       "    <tr>\n",
       "      <th>6</th>\n",
       "      <td>20</td>\n",
       "      <td>15.0</td>\n",
       "    </tr>\n",
       "    <tr>\n",
       "      <th>7</th>\n",
       "      <td>30</td>\n",
       "      <td>8.0</td>\n",
       "    </tr>\n",
       "    <tr>\n",
       "      <th>8</th>\n",
       "      <td>40</td>\n",
       "      <td>10.0</td>\n",
       "    </tr>\n",
       "    <tr>\n",
       "      <th>9</th>\n",
       "      <td>50</td>\n",
       "      <td>20.0</td>\n",
       "    </tr>\n",
       "    <tr>\n",
       "      <th>10</th>\n",
       "      <td>60</td>\n",
       "      <td>20.0</td>\n",
       "    </tr>\n",
       "    <tr>\n",
       "      <th>11</th>\n",
       "      <td>70</td>\n",
       "      <td>25.0</td>\n",
       "    </tr>\n",
       "    <tr>\n",
       "      <th>12</th>\n",
       "      <td>70</td>\n",
       "      <td>30.0</td>\n",
       "    </tr>\n",
       "    <tr>\n",
       "      <th>13</th>\n",
       "      <td>80</td>\n",
       "      <td>25.0</td>\n",
       "    </tr>\n",
       "    <tr>\n",
       "      <th>14</th>\n",
       "      <td>100</td>\n",
       "      <td>40.0</td>\n",
       "    </tr>\n",
       "    <tr>\n",
       "      <th>15</th>\n",
       "      <td>100</td>\n",
       "      <td>35.0</td>\n",
       "    </tr>\n",
       "    <tr>\n",
       "      <th>16</th>\n",
       "      <td>100</td>\n",
       "      <td>40.0</td>\n",
       "    </tr>\n",
       "    <tr>\n",
       "      <th>17</th>\n",
       "      <td>120</td>\n",
       "      <td>30.0</td>\n",
       "    </tr>\n",
       "    <tr>\n",
       "      <th>18</th>\n",
       "      <td>120</td>\n",
       "      <td>40.0</td>\n",
       "    </tr>\n",
       "    <tr>\n",
       "      <th>19</th>\n",
       "      <td>140</td>\n",
       "      <td>40.0</td>\n",
       "    </tr>\n",
       "    <tr>\n",
       "      <th>20</th>\n",
       "      <td>150</td>\n",
       "      <td>50.0</td>\n",
       "    </tr>\n",
       "    <tr>\n",
       "      <th>21</th>\n",
       "      <td>180</td>\n",
       "      <td>40.0</td>\n",
       "    </tr>\n",
       "    <tr>\n",
       "      <th>22</th>\n",
       "      <td>180</td>\n",
       "      <td>50.0</td>\n",
       "    </tr>\n",
       "    <tr>\n",
       "      <th>23</th>\n",
       "      <td>200</td>\n",
       "      <td>60.0</td>\n",
       "    </tr>\n",
       "    <tr>\n",
       "      <th>24</th>\n",
       "      <td>200</td>\n",
       "      <td>50.0</td>\n",
       "    </tr>\n",
       "  </tbody>\n",
       "</table>\n",
       "</div>"
      ],
      "text/plain": [
       "    Renda Familiar (X)  Gasto com Alimentação (Y)\n",
       "0                    3                        1.5\n",
       "1                    5                        2.0\n",
       "2                   10                        6.0\n",
       "3                   10                        7.0\n",
       "4                   20                       10.0\n",
       "5                   20                       12.0\n",
       "6                   20                       15.0\n",
       "7                   30                        8.0\n",
       "8                   40                       10.0\n",
       "9                   50                       20.0\n",
       "10                  60                       20.0\n",
       "11                  70                       25.0\n",
       "12                  70                       30.0\n",
       "13                  80                       25.0\n",
       "14                 100                       40.0\n",
       "15                 100                       35.0\n",
       "16                 100                       40.0\n",
       "17                 120                       30.0\n",
       "18                 120                       40.0\n",
       "19                 140                       40.0\n",
       "20                 150                       50.0\n",
       "21                 180                       40.0\n",
       "22                 180                       50.0\n",
       "23                 200                       60.0\n",
       "24                 200                       50.0"
      ]
     },
     "execution_count": 6,
     "metadata": {},
     "output_type": "execute_result"
    }
   ],
   "source": [
    "exe2_data = {\n",
    "    'Renda Familiar (X)': [3, 5, 10, 10, 20, 20, 20, 30, 40, 50, 60, 70, 70, 80, 100, 100, 100, 120, 120, 140, 150, 180, 180, 200, 200],\n",
    "    'Gasto com Alimentação (Y)': [1.5, 2.0, 6.0, 7.0, 10.0, 12.0, 15.0, 8.0, 10.0, 20.0, 20.0, 25.0, 30.0, 25.0, 40.0, 35.0, 40.0, 30.0, 40.0, 40.0, 50.0, 40.0, 50.0, 60.0, 50.0]\n",
    "}\n",
    "\n",
    "df_exe2 = pd.DataFrame(exe2_data)\n",
    "df_exe2"
   ]
  },
  {
   "attachments": {},
   "cell_type": "markdown",
   "metadata": {},
   "source": [
    "<p>a) Obtenha a equação de regressão do gasto com alimentação em função da\n",
    "renda familiar.</p>\n",
    "<h4>Resposta:</h4>"
   ]
  },
  {
   "cell_type": "code",
   "execution_count": 7,
   "metadata": {},
   "outputs": [
    {
     "data": {
      "image/png": "[encoded data removed]",
      "text/plain": [
       "<Figure size 640x480 with 1 Axes>"
      ]
     },
     "metadata": {},
     "output_type": "display_data"
    }
   ],
   "source": [
    "\n",
    "# Separe as variáveis independentes (X) e dependentes (Y)\n",
    "X = df_exe2[['Renda Familiar (X)']]\n",
    "Y = df_exe2['Gasto com Alimentação (Y)']\n",
    "\n",
    "# Crie uma instância do modelo de regressão linear\n",
    "exe2_regression = LinearRegression()\n",
    "\n",
    "# Ajuste o modelo aos dados\n",
    "exe2_regression.fit(X, Y)\n",
    "\n",
    "# Obtenha os coeficientes da reta\n",
    "exe2_coeficiente_angular = exe2_regression.coef_[0]\n",
    "exe2_coeficiente_linear = exe2_regression.intercept_\n",
    "\n",
    "# Plotar os dados e a reta\n",
    "plt.scatter(X, Y, color='blue', label='Dados')\n",
    "plt.plot(X, exe2_regression.predict(X), color='red', label='Reta de Regressão')\n",
    "plt.xlabel('Renda Familiar (X)')\n",
    "plt.ylabel('Gasto com Alimentação (Y)')\n",
    "plt.legend()\n",
    "plt.show()"
   ]
  },
  {
   "cell_type": "code",
   "execution_count": 8,
   "metadata": {},
   "outputs": [
    {
     "name": "stdout",
     "output_type": "stream",
     "text": [
      "Coeficiente Angular: 0.25576913927780337\n",
      "Coeficiente Linear: 5.400469143228982\n"
     ]
    }
   ],
   "source": [
    "print(\"Coeficiente Angular:\", exe2_coeficiente_angular)\n",
    "print(\"Coeficiente Linear:\", exe2_coeficiente_linear)"
   ]
  },
  {
   "attachments": {},
   "cell_type": "markdown",
   "metadata": {},
   "source": [
    "<p>b) Qual o significado prático do valor da inclinação da reta de regressão do item\n",
    "(a)?</p>\n",
    "<h4>Resposta:</h4>\n",
    "<p>Ao observarmos o coeficiente angular de 0.25576913927780337 podemos chegar à seguinte conclusão, que em média para cada aumento unitário na variável independente (Renda Familiar (X)) esperamos um aumento aproximado de 0.2558 na variável dependente (Gastos com Alimentação (Y)).</p>"
   ]
  },
  {
   "attachments": {},
   "cell_type": "markdown",
   "metadata": {},
   "source": [
    "<p>c) Considerando a reta estimada dada no item (a), estime o gasto de alimentação\n",
    "para as rendas: 55, 90, 250, 300 e 450.</p>\n",
    "<h4>Resposta:</h4>"
   ]
  },
  {
   "cell_type": "code",
   "execution_count": 9,
   "metadata": {},
   "outputs": [
    {
     "name": "stdout",
     "output_type": "stream",
     "text": [
      "Estimativa de gastos alimentares para renda 55\n",
      "19.467771803508167\n",
      "\n",
      "\n",
      "Estimativa de gastos alimentares para renda 90\n",
      "28.419691678231285\n",
      "\n",
      "\n",
      "Estimativa de gastos alimentares para renda 250\n",
      "69.34275396267982\n",
      "\n",
      "\n",
      "Estimativa de gastos alimentares para renda 300\n",
      "82.13121092656999\n",
      "\n",
      "\n",
      "Estimativa de gastos alimentares para renda 450\n",
      "120.49658181824049\n"
     ]
    }
   ],
   "source": [
    "print('Estimativa de gastos alimentares para renda 55')\n",
    "print(estimate(55, exe2_coeficiente_angular, exe2_coeficiente_linear))\n",
    "print('\\n')\n",
    "\n",
    "print('Estimativa de gastos alimentares para renda 90')\n",
    "print(estimate(90, exe2_coeficiente_angular, exe2_coeficiente_linear))\n",
    "print('\\n')\n",
    "\n",
    "print('Estimativa de gastos alimentares para renda 250')\n",
    "print(estimate(250, exe2_coeficiente_angular, exe2_coeficiente_linear))\n",
    "print('\\n')\n",
    "\n",
    "print('Estimativa de gastos alimentares para renda 300')\n",
    "print(estimate(300, exe2_coeficiente_angular, exe2_coeficiente_linear))\n",
    "print('\\n')\n",
    "\n",
    "print('Estimativa de gastos alimentares para renda 450')\n",
    "print(estimate(450, exe2_coeficiente_angular, exe2_coeficiente_linear))"
   ]
  },
  {
   "attachments": {},
   "cell_type": "markdown",
   "metadata": {},
   "source": [
    "<h3>Exercício 3</h3>\n",
    "<p>Uma pesquisa foi realizada com o objetivo de verificar se existe associação entre a falta\n",
    "de sono e a capacidade de as pessoas resolverem problemas simples. Foram testadas\n",
    "10 pessoas, mantendo-se sem dormir por um determinado número de horas. Após\n",
    "cada um destes períodos, cada pessoa teve de resolver um teste com adições simples,\n",
    "anotando-se então os erros cometidos. Os dados resultantes são os seguintes:</p>"
   ]
  },
  {
   "cell_type": "code",
   "execution_count": 10,
   "metadata": {},
   "outputs": [
    {
     "data": {
      "text/html": [
       "<div>\n",
       "<style scoped>\n",
       "    .dataframe tbody tr th:only-of-type {\n",
       "        vertical-align: middle;\n",
       "    }\n",
       "\n",
       "    .dataframe tbody tr th {\n",
       "        vertical-align: top;\n",
       "    }\n",
       "\n",
       "    .dataframe thead th {\n",
       "        text-align: right;\n",
       "    }\n",
       "</style>\n",
       "<table border=\"1\" class=\"dataframe\">\n",
       "  <thead>\n",
       "    <tr style=\"text-align: right;\">\n",
       "      <th></th>\n",
       "      <th>Número de erros</th>\n",
       "      <th>Número de horas sem dormir</th>\n",
       "    </tr>\n",
       "  </thead>\n",
       "  <tbody>\n",
       "    <tr>\n",
       "      <th>0</th>\n",
       "      <td>6</td>\n",
       "      <td>6</td>\n",
       "    </tr>\n",
       "    <tr>\n",
       "      <th>1</th>\n",
       "      <td>8</td>\n",
       "      <td>8</td>\n",
       "    </tr>\n",
       "    <tr>\n",
       "      <th>2</th>\n",
       "      <td>6</td>\n",
       "      <td>12</td>\n",
       "    </tr>\n",
       "    <tr>\n",
       "      <th>3</th>\n",
       "      <td>10</td>\n",
       "      <td>12</td>\n",
       "    </tr>\n",
       "    <tr>\n",
       "      <th>4</th>\n",
       "      <td>8</td>\n",
       "      <td>16</td>\n",
       "    </tr>\n",
       "    <tr>\n",
       "      <th>5</th>\n",
       "      <td>14</td>\n",
       "      <td>16</td>\n",
       "    </tr>\n",
       "    <tr>\n",
       "      <th>6</th>\n",
       "      <td>12</td>\n",
       "      <td>20</td>\n",
       "    </tr>\n",
       "    <tr>\n",
       "      <th>7</th>\n",
       "      <td>14</td>\n",
       "      <td>20</td>\n",
       "    </tr>\n",
       "    <tr>\n",
       "      <th>8</th>\n",
       "      <td>12</td>\n",
       "      <td>24</td>\n",
       "    </tr>\n",
       "    <tr>\n",
       "      <th>9</th>\n",
       "      <td>16</td>\n",
       "      <td>24</td>\n",
       "    </tr>\n",
       "  </tbody>\n",
       "</table>\n",
       "</div>"
      ],
      "text/plain": [
       "   Número de erros  Número de horas sem dormir\n",
       "0                6                           6\n",
       "1                8                           8\n",
       "2                6                          12\n",
       "3               10                          12\n",
       "4                8                          16\n",
       "5               14                          16\n",
       "6               12                          20\n",
       "7               14                          20\n",
       "8               12                          24\n",
       "9               16                          24"
      ]
     },
     "execution_count": 10,
     "metadata": {},
     "output_type": "execute_result"
    }
   ],
   "source": [
    "exe3_data = {\n",
    "    'Número de erros': [6,8,6,10,8,14,12,14,12,16],\n",
    "    'Número de horas sem dormir': [6,8,12,12,16,16,20,20,24,24]\n",
    "}\n",
    "\n",
    "df_exe3 = pd.DataFrame(exe3_data)\n",
    "df_exe3"
   ]
  },
  {
   "attachments": {},
   "cell_type": "markdown",
   "metadata": {},
   "source": [
    "<p>a) Obtenha a equação de regressão do número de erros em função do número de\n",
    "horas sem dormir.</p>\n",
    "<h4>Resposta:</h4>"
   ]
  },
  {
   "cell_type": "code",
   "execution_count": 11,
   "metadata": {},
   "outputs": [
    {
     "data": {
      "image/png": "[encoded data removed]",
      "text/plain": [
       "<Figure size 640x480 with 1 Axes>"
      ]
     },
     "metadata": {},
     "output_type": "display_data"
    }
   ],
   "source": [
    "# Separe as variáveis independentes (X) e dependentes (Y)\n",
    "X = df_exe3[['Número de horas sem dormir']]\n",
    "Y = df_exe3['Número de erros']\n",
    "\n",
    "# Crie uma instância do modelo de regressão linear\n",
    "exe3_regression = LinearRegression()\n",
    "\n",
    "# Ajuste o modelo aos dados\n",
    "exe3_regression.fit(X, Y)\n",
    "\n",
    "# Obtenha os coeficientes da reta\n",
    "exe3_coeficiente_angular = exe3_regression.coef_[0]\n",
    "exe3_coeficiente_linear = exe3_regression.intercept_\n",
    "\n",
    "# Plotar os dados e a reta\n",
    "plt.scatter(X, Y, color='blue', label='Dados')\n",
    "plt.plot(X, exe3_regression.predict(X), color='red', label='Reta de Regressão')\n",
    "plt.xlabel('Número de horas sem dormir')\n",
    "plt.ylabel('Número de erros')\n",
    "plt.legend()\n",
    "plt.show()"
   ]
  },
  {
   "cell_type": "code",
   "execution_count": 12,
   "metadata": {},
   "outputs": [
    {
     "name": "stdout",
     "output_type": "stream",
     "text": [
      "Coeficiente Angular: 0.45331833520809905\n",
      "Coeficiente Linear: 3.437570303712034\n"
     ]
    }
   ],
   "source": [
    "print(\"Coeficiente Angular:\", exe3_coeficiente_angular)\n",
    "print(\"Coeficiente Linear:\", exe3_coeficiente_linear)"
   ]
  },
  {
   "attachments": {},
   "cell_type": "markdown",
   "metadata": {},
   "source": [
    "<p>Ao observarmos o coeficiente angular de 0.45331833520809905 podemos chegar à conclusão de que em média para cada aumento unitário na variável independente (Número de horas sem dormir) esperamos um aumento aproximado de 0.4533 na variável dependente (Número de erros)</p>"
   ]
  },
  {
   "attachments": {},
   "cell_type": "markdown",
   "metadata": {},
   "source": [
    "<p>b) Estime o número de erros para pessoas que ficaram sem dormir o seguinte\n",
    "número de horas: 2, 6, 18, 25, 30.</p>\n",
    "<h4>Resposta:</h4>"
   ]
  },
  {
   "cell_type": "code",
   "execution_count": 13,
   "metadata": {},
   "outputs": [
    {
     "name": "stdout",
     "output_type": "stream",
     "text": [
      "Estimativa de erros para pessoas que ficam sem dormir 2 horas\n",
      "4.344206974128232\n",
      "\n",
      "\n",
      "Estimativa de erros para pessoas que ficam sem dormir 6 horas\n",
      "6.157480314960629\n",
      "\n",
      "\n",
      "Estimativa de erros para pessoas que ficam sem dormir 18 horas\n",
      "11.597300337457817\n",
      "\n",
      "\n",
      "Estimativa de erros para pessoas que ficam sem dormir 25 horas\n",
      "14.770528683914511\n",
      "\n",
      "\n",
      "Estimativa de erros para pessoas que ficam sem dormir 30 horas\n",
      "17.037120359955004\n",
      "\n",
      "\n"
     ]
    }
   ],
   "source": [
    "print('Estimativa de erros para pessoas que ficam sem dormir 2 horas')\n",
    "print(estimate(2, exe3_coeficiente_angular, exe3_coeficiente_linear))\n",
    "print('\\n')\n",
    "\n",
    "print('Estimativa de erros para pessoas que ficam sem dormir 6 horas')\n",
    "print(estimate(6, exe3_coeficiente_angular, exe3_coeficiente_linear))\n",
    "print('\\n')\n",
    "\n",
    "print('Estimativa de erros para pessoas que ficam sem dormir 18 horas')\n",
    "print(estimate(18, exe3_coeficiente_angular, exe3_coeficiente_linear))\n",
    "print('\\n')\n",
    "\n",
    "print('Estimativa de erros para pessoas que ficam sem dormir 25 horas')\n",
    "print(estimate(25, exe3_coeficiente_angular, exe3_coeficiente_linear))\n",
    "print('\\n')\n",
    "\n",
    "print('Estimativa de erros para pessoas que ficam sem dormir 30 horas')\n",
    "print(estimate(30, exe3_coeficiente_angular, exe3_coeficiente_linear))\n",
    "print('\\n')"
   ]
  },
  {
   "attachments": {},
   "cell_type": "markdown",
   "metadata": {},
   "source": [
    "<h3>Exercício 4</h3>\n",
    "<p>O proprietário da Showtime Movie Theater, Inc., gostaria de estimar o faturamento\n",
    "bruto semanal ( ) como função dos gastos com publicidade ( e ). Dados históricos\n",
    "para uma amostra de seis semanas são apresentados a seguir.</p>"
   ]
  },
  {
   "cell_type": "code",
   "execution_count": 15,
   "metadata": {},
   "outputs": [
    {
     "data": {
      "text/html": [
       "<div>\n",
       "<style scoped>\n",
       "    .dataframe tbody tr th:only-of-type {\n",
       "        vertical-align: middle;\n",
       "    }\n",
       "\n",
       "    .dataframe tbody tr th {\n",
       "        vertical-align: top;\n",
       "    }\n",
       "\n",
       "    .dataframe thead th {\n",
       "        text-align: right;\n",
       "    }\n",
       "</style>\n",
       "<table border=\"1\" class=\"dataframe\">\n",
       "  <thead>\n",
       "    <tr style=\"text-align: right;\">\n",
       "      <th></th>\n",
       "      <th>Faturamento Bruto Semanal</th>\n",
       "      <th>Anúncio de Televisão</th>\n",
       "      <th>Anúncio do Jornal</th>\n",
       "    </tr>\n",
       "  </thead>\n",
       "  <tbody>\n",
       "    <tr>\n",
       "      <th>0</th>\n",
       "      <td>96</td>\n",
       "      <td>5.0</td>\n",
       "      <td>1.5</td>\n",
       "    </tr>\n",
       "    <tr>\n",
       "      <th>1</th>\n",
       "      <td>90</td>\n",
       "      <td>2.0</td>\n",
       "      <td>2.0</td>\n",
       "    </tr>\n",
       "    <tr>\n",
       "      <th>2</th>\n",
       "      <td>95</td>\n",
       "      <td>4.0</td>\n",
       "      <td>1.5</td>\n",
       "    </tr>\n",
       "    <tr>\n",
       "      <th>3</th>\n",
       "      <td>92</td>\n",
       "      <td>2.5</td>\n",
       "      <td>2.5</td>\n",
       "    </tr>\n",
       "    <tr>\n",
       "      <th>4</th>\n",
       "      <td>95</td>\n",
       "      <td>3.0</td>\n",
       "      <td>3.3</td>\n",
       "    </tr>\n",
       "    <tr>\n",
       "      <th>5</th>\n",
       "      <td>94</td>\n",
       "      <td>3.5</td>\n",
       "      <td>2.3</td>\n",
       "    </tr>\n",
       "    <tr>\n",
       "      <th>6</th>\n",
       "      <td>94</td>\n",
       "      <td>2.5</td>\n",
       "      <td>4.2</td>\n",
       "    </tr>\n",
       "    <tr>\n",
       "      <th>7</th>\n",
       "      <td>94</td>\n",
       "      <td>3.0</td>\n",
       "      <td>2.5</td>\n",
       "    </tr>\n",
       "  </tbody>\n",
       "</table>\n",
       "</div>"
      ],
      "text/plain": [
       "   Faturamento Bruto Semanal  Anúncio de Televisão  Anúncio do Jornal\n",
       "0                         96                   5.0                1.5\n",
       "1                         90                   2.0                2.0\n",
       "2                         95                   4.0                1.5\n",
       "3                         92                   2.5                2.5\n",
       "4                         95                   3.0                3.3\n",
       "5                         94                   3.5                2.3\n",
       "6                         94                   2.5                4.2\n",
       "7                         94                   3.0                2.5"
      ]
     },
     "execution_count": 15,
     "metadata": {},
     "output_type": "execute_result"
    }
   ],
   "source": [
    "exe4_data = {\n",
    "    'Faturamento Bruto Semanal': [96,90,95,92,95,94,94,94],\n",
    "    'Anúncio de Televisão': [5.0,2.0,4.0,2.5,3.0,3.5,2.5,3.0],\n",
    "    'Anúncio do Jornal': [1.5,2.0,1.5,2.5,3.3,2.3,4.2,2.5]\n",
    "}\n",
    "\n",
    "df_exe4 = pd.DataFrame(exe4_data)\n",
    "df_exe4"
   ]
  },
  {
   "attachments": {},
   "cell_type": "markdown",
   "metadata": {},
   "source": [
    "<p>Foram obtidas três regressões:\n",
    "<br>(a) = 88.64 + 1.60 2 = 0.65\n",
    "<br>(b) = 93.86 − 0.04 2 = 0.0004\n",
    "<br>(c) = 83.23 + 2.29 + 1.30 2 = 0.92\n",
    "</p>\n"
   ]
  },
  {
   "attachments": {},
   "cell_type": "markdown",
   "metadata": {},
   "source": [
    "<p>1) Qual você escolheria e porque?</p>\n",
    "<h4>Resposta:</h4>\n",
    "<p>A regressão escolhida seria a \"c\", além de possuir coeficiente para todas as variáveis, ela também possui o coeficiente de determinação de 0.92 indicando que ela pode explicar 92% das variabilidades dos dados.</p>"
   ]
  },
  {
   "attachments": {},
   "cell_type": "markdown",
   "metadata": {},
   "source": [
    "<p>2) Qual é a estimativa do faturamento bruto para uma semana quando US$ 3.500 são\n",
    "gastos em anúncio de televisão e US$1.800 são gastos em anúncio de jornal?</p>\n",
    "<h4>Resposta:</h4>"
   ]
  },
  {
   "cell_type": "code",
   "execution_count": 16,
   "metadata": {},
   "outputs": [
    {
     "name": "stdout",
     "output_type": "stream",
     "text": [
      "Estimativa do faturamento bruto: 10438.23\n"
     ]
    }
   ],
   "source": [
    "def calcular_faturamento_bruto(gasto_tv, gasto_jornal):\n",
    "    faturamento_bruto = 83.23 + 2.29 * gasto_tv + 1.30 * gasto_jornal\n",
    "    return faturamento_bruto\n",
    "\n",
    "gasto_tv = 3500\n",
    "gasto_jornal = 1800\n",
    "\n",
    "estimativa_faturamento = calcular_faturamento_bruto(gasto_tv, gasto_jornal)\n",
    "print(\"Estimativa do faturamento bruto:\", estimativa_faturamento)"
   ]
  },
  {
   "attachments": {},
   "cell_type": "markdown",
   "metadata": {},
   "source": [
    "<h3>Exercício 5</h3>\n",
    "<p>Uma empresa que vende por correios componentes de computadores pessoais,\n",
    "software e hardware possui um deposito geral para a distribuição dos produtos.\n",
    "Atualmente, a administração se encontra examinando o processo de distribuição deste\n",
    "deposito e esta interessado em estudar os fatores que afetam os custos de distribuição\n",
    "do deposito. Atualmente um pequeno cargo de manipulação se adiciona ao pedido,\n",
    "independentemente da quantidade pela que se fizeram. Foram coletados dados\n",
    "correspondentes de 24 meses e respeito aos custos de distribuição de deposito, as\n",
    "vendas e número de pedidos. A continuação apresenta os resultados:\n",
    "</p>"
   ]
  },
  {
   "cell_type": "code",
   "execution_count": 20,
   "metadata": {},
   "outputs": [
    {
     "data": {
      "text/html": [
       "<div>\n",
       "<style scoped>\n",
       "    .dataframe tbody tr th:only-of-type {\n",
       "        vertical-align: middle;\n",
       "    }\n",
       "\n",
       "    .dataframe tbody tr th {\n",
       "        vertical-align: top;\n",
       "    }\n",
       "\n",
       "    .dataframe thead th {\n",
       "        text-align: right;\n",
       "    }\n",
       "</style>\n",
       "<table border=\"1\" class=\"dataframe\">\n",
       "  <thead>\n",
       "    <tr style=\"text-align: right;\">\n",
       "      <th></th>\n",
       "      <th>Mes</th>\n",
       "      <th>Y</th>\n",
       "      <th>X1</th>\n",
       "      <th>X2</th>\n",
       "    </tr>\n",
       "  </thead>\n",
       "  <tbody>\n",
       "    <tr>\n",
       "      <th>0</th>\n",
       "      <td>1</td>\n",
       "      <td>52.95</td>\n",
       "      <td>386</td>\n",
       "      <td>4015</td>\n",
       "    </tr>\n",
       "    <tr>\n",
       "      <th>1</th>\n",
       "      <td>2</td>\n",
       "      <td>71.66</td>\n",
       "      <td>446</td>\n",
       "      <td>3806</td>\n",
       "    </tr>\n",
       "    <tr>\n",
       "      <th>2</th>\n",
       "      <td>3</td>\n",
       "      <td>85.56</td>\n",
       "      <td>512</td>\n",
       "      <td>5309</td>\n",
       "    </tr>\n",
       "    <tr>\n",
       "      <th>3</th>\n",
       "      <td>4</td>\n",
       "      <td>63.69</td>\n",
       "      <td>401</td>\n",
       "      <td>4262</td>\n",
       "    </tr>\n",
       "    <tr>\n",
       "      <th>4</th>\n",
       "      <td>5</td>\n",
       "      <td>72.81</td>\n",
       "      <td>457</td>\n",
       "      <td>4296</td>\n",
       "    </tr>\n",
       "    <tr>\n",
       "      <th>5</th>\n",
       "      <td>6</td>\n",
       "      <td>68.44</td>\n",
       "      <td>458</td>\n",
       "      <td>4097</td>\n",
       "    </tr>\n",
       "    <tr>\n",
       "      <th>6</th>\n",
       "      <td>7</td>\n",
       "      <td>52.46</td>\n",
       "      <td>301</td>\n",
       "      <td>3213</td>\n",
       "    </tr>\n",
       "    <tr>\n",
       "      <th>7</th>\n",
       "      <td>8</td>\n",
       "      <td>70.77</td>\n",
       "      <td>484</td>\n",
       "      <td>4809</td>\n",
       "    </tr>\n",
       "    <tr>\n",
       "      <th>8</th>\n",
       "      <td>9</td>\n",
       "      <td>82.03</td>\n",
       "      <td>517</td>\n",
       "      <td>5237</td>\n",
       "    </tr>\n",
       "    <tr>\n",
       "      <th>9</th>\n",
       "      <td>10</td>\n",
       "      <td>74.39</td>\n",
       "      <td>503</td>\n",
       "      <td>4732</td>\n",
       "    </tr>\n",
       "    <tr>\n",
       "      <th>10</th>\n",
       "      <td>11</td>\n",
       "      <td>70.84</td>\n",
       "      <td>535</td>\n",
       "      <td>4413</td>\n",
       "    </tr>\n",
       "    <tr>\n",
       "      <th>11</th>\n",
       "      <td>12</td>\n",
       "      <td>54.08</td>\n",
       "      <td>553</td>\n",
       "      <td>2921</td>\n",
       "    </tr>\n",
       "    <tr>\n",
       "      <th>12</th>\n",
       "      <td>13</td>\n",
       "      <td>62.98</td>\n",
       "      <td>372</td>\n",
       "      <td>3977</td>\n",
       "    </tr>\n",
       "    <tr>\n",
       "      <th>13</th>\n",
       "      <td>14</td>\n",
       "      <td>72.30</td>\n",
       "      <td>328</td>\n",
       "      <td>4428</td>\n",
       "    </tr>\n",
       "    <tr>\n",
       "      <th>14</th>\n",
       "      <td>15</td>\n",
       "      <td>58.99</td>\n",
       "      <td>408</td>\n",
       "      <td>3964</td>\n",
       "    </tr>\n",
       "    <tr>\n",
       "      <th>15</th>\n",
       "      <td>16</td>\n",
       "      <td>79.38</td>\n",
       "      <td>491</td>\n",
       "      <td>4582</td>\n",
       "    </tr>\n",
       "    <tr>\n",
       "      <th>16</th>\n",
       "      <td>17</td>\n",
       "      <td>94.44</td>\n",
       "      <td>527</td>\n",
       "      <td>5582</td>\n",
       "    </tr>\n",
       "    <tr>\n",
       "      <th>17</th>\n",
       "      <td>18</td>\n",
       "      <td>59.74</td>\n",
       "      <td>444</td>\n",
       "      <td>3450</td>\n",
       "    </tr>\n",
       "    <tr>\n",
       "      <th>18</th>\n",
       "      <td>19</td>\n",
       "      <td>90.50</td>\n",
       "      <td>623</td>\n",
       "      <td>5079</td>\n",
       "    </tr>\n",
       "    <tr>\n",
       "      <th>19</th>\n",
       "      <td>20</td>\n",
       "      <td>93.24</td>\n",
       "      <td>596</td>\n",
       "      <td>5735</td>\n",
       "    </tr>\n",
       "    <tr>\n",
       "      <th>20</th>\n",
       "      <td>21</td>\n",
       "      <td>69.33</td>\n",
       "      <td>463</td>\n",
       "      <td>4269</td>\n",
       "    </tr>\n",
       "    <tr>\n",
       "      <th>21</th>\n",
       "      <td>22</td>\n",
       "      <td>53.71</td>\n",
       "      <td>389</td>\n",
       "      <td>3708</td>\n",
       "    </tr>\n",
       "    <tr>\n",
       "      <th>22</th>\n",
       "      <td>23</td>\n",
       "      <td>98.18</td>\n",
       "      <td>547</td>\n",
       "      <td>5387</td>\n",
       "    </tr>\n",
       "    <tr>\n",
       "      <th>23</th>\n",
       "      <td>24</td>\n",
       "      <td>66.80</td>\n",
       "      <td>415</td>\n",
       "      <td>4161</td>\n",
       "    </tr>\n",
       "  </tbody>\n",
       "</table>\n",
       "</div>"
      ],
      "text/plain": [
       "    Mes      Y   X1    X2\n",
       "0     1  52.95  386  4015\n",
       "1     2  71.66  446  3806\n",
       "2     3  85.56  512  5309\n",
       "3     4  63.69  401  4262\n",
       "4     5  72.81  457  4296\n",
       "5     6  68.44  458  4097\n",
       "6     7  52.46  301  3213\n",
       "7     8  70.77  484  4809\n",
       "8     9  82.03  517  5237\n",
       "9    10  74.39  503  4732\n",
       "10   11  70.84  535  4413\n",
       "11   12  54.08  553  2921\n",
       "12   13  62.98  372  3977\n",
       "13   14  72.30  328  4428\n",
       "14   15  58.99  408  3964\n",
       "15   16  79.38  491  4582\n",
       "16   17  94.44  527  5582\n",
       "17   18  59.74  444  3450\n",
       "18   19  90.50  623  5079\n",
       "19   20  93.24  596  5735\n",
       "20   21  69.33  463  4269\n",
       "21   22  53.71  389  3708\n",
       "22   23  98.18  547  5387\n",
       "23   24  66.80  415  4161"
      ]
     },
     "execution_count": 20,
     "metadata": {},
     "output_type": "execute_result"
    }
   ],
   "source": [
    "exe5_data = {\n",
    "    'Mes': range(1, 25),\n",
    "    'Y': [52.95, 71.66, 85.56, 63.69, 72.81, 68.44, 52.46, 70.77, 82.03, 74.39, 70.84, 54.08, 62.98, 72.30, 58.99, 79.38, 94.44, 59.74, 90.50, 93.24, 69.33, 53.71, 98.18, 66.80],\n",
    "    'X1': [386, 446, 512, 401, 457, 458, 301, 484, 517, 503, 535, 553, 372, 328, 408, 491, 527, 444, 623, 596, 463, 389, 547, 415],\n",
    "    'X2': [4015, 3806, 5309, 4262, 4296, 4097, 3213, 4809, 5237, 4732, 4413, 2921, 3977, 4428, 3964, 4582, 5582, 3450, 5079, 5735, 4269, 3708, 5387, 4161]\n",
    "}\n",
    "\n",
    "df_exe5 = pd.DataFrame(exe5_data)\n",
    "df_exe5"
   ]
  },
  {
   "attachments": {},
   "cell_type": "markdown",
   "metadata": {},
   "source": [
    "<p>a) Ajuste os dados a um modelo de regressão com duas variáveis regressoras e\n",
    "interprete as estimativas dos parâmetros do modelo.</p>\n",
    "<h4>Resposta:</h4>"
   ]
  },
  {
   "cell_type": "code",
   "execution_count": 21,
   "metadata": {},
   "outputs": [
    {
     "name": "stdout",
     "output_type": "stream",
     "text": [
      "Intercept: -9.806\n",
      "Coefficients:\n",
      " X1: 0.04178687569209065\n",
      " X2: 0.01411745873141526\n"
     ]
    }
   ],
   "source": [
    "# Define as variáveis regressoras e váriavel dependente\n",
    "exe5_predictors = ['X1', 'X2']\n",
    "exe5_outcome = 'Y'\n",
    "\n",
    "# Cria e ajusta o modelo de regressão linear\n",
    "model = LinearRegression()\n",
    "model.fit(df_exe5[exe5_predictors], df_exe5[exe5_outcome])\n",
    "\n",
    "# Printa o intercepto e os coeficientes do modelo\n",
    "print(f'Intercept: {model.intercept_:.3f}')\n",
    "print('Coefficients:')\n",
    "for name, coef in zip(exe5_predictors, model.coef_):\n",
    "    print(f' {name}: {coef}')"
   ]
  },
  {
   "attachments": {},
   "cell_type": "markdown",
   "metadata": {},
   "source": [
    "<p>b) Estime o custo de distribuição do deposito mensal da empresa quando as\n",
    "vendas são $ 400.000 dólares e o número de pedidos é de 4.500.</p>\n",
    "<h4>Resposta:</h4>"
   ]
  },
  {
   "cell_type": "code",
   "execution_count": 23,
   "metadata": {},
   "outputs": [
    {
     "name": "stdout",
     "output_type": "stream",
     "text": [
      "Custo de distribuição do depósito mensal estimado: $16768.47\n"
     ]
    },
    {
     "name": "stderr",
     "output_type": "stream",
     "text": [
      "/home/lucio/.local/lib/python3.10/site-packages/sklearn/base.py:439: UserWarning: X does not have valid feature names, but LinearRegression was fitted with feature names\n",
      "  warnings.warn(\n"
     ]
    }
   ],
   "source": [
    "# Estimar o custo de distribuição do depósito mensal\n",
    "vendas = 400000\n",
    "num_pedidos = 4500\n",
    "custo_distribuicao = model.predict([[vendas, num_pedidos]])\n",
    "\n",
    "print(f'Custo de distribuição do depósito mensal estimado: ${custo_distribuicao[0]:.2f}')"
   ]
  },
  {
   "attachments": {},
   "cell_type": "markdown",
   "metadata": {},
   "source": [
    "<p>b) Descreva se o seu modelo é relativamente bom de acordo com as métricas</p>\n",
    "<h4>Resposta:</h4>"
   ]
  }
 ],
 "metadata": {
  "kernelspec": {
   "display_name": "Python 3",
   "language": "python",
   "name": "python3"
  },
  "language_info": {
   "codemirror_mode": {
    "name": "ipython",
    "version": 3
   },
   "file_extension": ".py",
   "mimetype": "text/x-python",
   "name": "python",
   "nbconvert_exporter": "python",
   "pygments_lexer": "ipython3",
   "version": "3.10.6"
  },
  "orig_nbformat": 4
 },
 "nbformat": 4,
 "nbformat_minor": 2
}
